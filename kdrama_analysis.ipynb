{
 "cells": [
  {
   "cell_type": "markdown",
   "metadata": {},
   "source": [
    "# Korean Drama Analysis\n",
    "Dataset as of 2021/12\n",
    "From Kaggle: https://www.kaggle.com/chanoncharuchinda/top-100-korean-drama-mydramalist"
   ]
  },
  {
   "cell_type": "code",
   "execution_count": 1,
   "metadata": {},
   "outputs": [],
   "source": [
    "# Importing Packages\n",
    "import pandas as pd\n",
    "import matplotlib.pyplot as plt\n",
    "import re # Regex\n",
    "import seaborn as sns"
   ]
  },
  {
   "cell_type": "code",
   "execution_count": 2,
   "metadata": {},
   "outputs": [
    {
     "data": {
      "text/html": [
       "<div>\n",
       "<style scoped>\n",
       "    .dataframe tbody tr th:only-of-type {\n",
       "        vertical-align: middle;\n",
       "    }\n",
       "\n",
       "    .dataframe tbody tr th {\n",
       "        vertical-align: top;\n",
       "    }\n",
       "\n",
       "    .dataframe thead th {\n",
       "        text-align: right;\n",
       "    }\n",
       "</style>\n",
       "<table border=\"1\" class=\"dataframe\">\n",
       "  <thead>\n",
       "    <tr style=\"text-align: right;\">\n",
       "      <th></th>\n",
       "      <th>Name</th>\n",
       "      <th>Year of release</th>\n",
       "      <th>Aired Date</th>\n",
       "      <th>Aired On</th>\n",
       "      <th>Number of Episode</th>\n",
       "      <th>Network</th>\n",
       "      <th>Duration</th>\n",
       "      <th>Content Rating</th>\n",
       "      <th>Synopsis</th>\n",
       "      <th>Cast</th>\n",
       "      <th>Genre</th>\n",
       "      <th>Tags</th>\n",
       "      <th>Rank</th>\n",
       "      <th>Rating</th>\n",
       "    </tr>\n",
       "  </thead>\n",
       "  <tbody>\n",
       "    <tr>\n",
       "      <th>0</th>\n",
       "      <td>Move to Heaven</td>\n",
       "      <td>2021</td>\n",
       "      <td>May 14, 2021</td>\n",
       "      <td>Friday</td>\n",
       "      <td>10</td>\n",
       "      <td>Netflix</td>\n",
       "      <td>52 min.</td>\n",
       "      <td>18+ Restricted (violence &amp; profanity)</td>\n",
       "      <td>Geu Roo is a young autistic man. He works for ...</td>\n",
       "      <td>Lee Je Hoon, Tang Jun Sang, Hong Seung Hee, Ju...</td>\n",
       "      <td>Life,  Drama,  Family</td>\n",
       "      <td>Autism, Uncle-Nephew Relationship, Death, Sava...</td>\n",
       "      <td>#1</td>\n",
       "      <td>9.2</td>\n",
       "    </tr>\n",
       "    <tr>\n",
       "      <th>1</th>\n",
       "      <td>Hospital Playlist</td>\n",
       "      <td>2020</td>\n",
       "      <td>Mar 12, 2020 - May 28, 2020</td>\n",
       "      <td>Thursday</td>\n",
       "      <td>12</td>\n",
       "      <td>Netflix,  tvN</td>\n",
       "      <td>1 hr. 30 min.</td>\n",
       "      <td>15+ - Teens 15 or older</td>\n",
       "      <td>The stories of people going through their days...</td>\n",
       "      <td>Jo Jung Suk, Yoo Yeon Seok, Jung Kyung Ho, Kim...</td>\n",
       "      <td>Friendship,  Romance,  Life,  Medical</td>\n",
       "      <td>Strong Friendship, Multiple Mains, Best Friend...</td>\n",
       "      <td>#2</td>\n",
       "      <td>9.1</td>\n",
       "    </tr>\n",
       "    <tr>\n",
       "      <th>2</th>\n",
       "      <td>Flower of Evil</td>\n",
       "      <td>2020</td>\n",
       "      <td>Jul 29, 2020 - Sep 23, 2020</td>\n",
       "      <td>Wednesday, Thursday</td>\n",
       "      <td>16</td>\n",
       "      <td>tvN</td>\n",
       "      <td>1 hr. 10 min.</td>\n",
       "      <td>15+ - Teens 15 or older</td>\n",
       "      <td>Although Baek Hee Sung is hiding a dark secret...</td>\n",
       "      <td>Lee Joon Gi, Moon Chae Won, Jang Hee Jin, Seo ...</td>\n",
       "      <td>Thriller,  Romance,  Crime,  Melodrama</td>\n",
       "      <td>Married Couple, Deception, Suspense, Family Se...</td>\n",
       "      <td>#3</td>\n",
       "      <td>9.1</td>\n",
       "    </tr>\n",
       "    <tr>\n",
       "      <th>3</th>\n",
       "      <td>Hospital Playlist 2</td>\n",
       "      <td>2021</td>\n",
       "      <td>Jun 17, 2021 - Sep 16, 2021</td>\n",
       "      <td>Thursday</td>\n",
       "      <td>12</td>\n",
       "      <td>Netflix,  tvN</td>\n",
       "      <td>1 hr. 40 min.</td>\n",
       "      <td>15+ - Teens 15 or older</td>\n",
       "      <td>Everyday is extraordinary for five doctors and...</td>\n",
       "      <td>Jo Jung Suk, Yoo Yeon Seok, Jung Kyung Ho, Kim...</td>\n",
       "      <td>Friendship,  Romance,  Life,  Medical</td>\n",
       "      <td>Workplace, Strong Friendship, Best Friends, Mu...</td>\n",
       "      <td>#4</td>\n",
       "      <td>9.1</td>\n",
       "    </tr>\n",
       "    <tr>\n",
       "      <th>4</th>\n",
       "      <td>My Mister</td>\n",
       "      <td>2018</td>\n",
       "      <td>Mar 21, 2018 - May 17, 2018</td>\n",
       "      <td>Wednesday, Thursday</td>\n",
       "      <td>16</td>\n",
       "      <td>tvN</td>\n",
       "      <td>1 hr. 17 min.</td>\n",
       "      <td>15+ - Teens 15 or older</td>\n",
       "      <td>Park Dong Hoon is a middle-aged engineer who i...</td>\n",
       "      <td>Lee Sun Kyun, IU, Park Ho San, Song Sae Byuk, ...</td>\n",
       "      <td>Psychological,  Life,  Drama,  Family</td>\n",
       "      <td>Age Gap, Nice Male Lead, Strong Female Lead, H...</td>\n",
       "      <td>#5</td>\n",
       "      <td>9.1</td>\n",
       "    </tr>\n",
       "    <tr>\n",
       "      <th>5</th>\n",
       "      <td>Prison Playbook</td>\n",
       "      <td>2017</td>\n",
       "      <td>Nov 22, 2017 - Jan 18, 2018</td>\n",
       "      <td>Wednesday, Thursday</td>\n",
       "      <td>16</td>\n",
       "      <td>Netflix,  tvN</td>\n",
       "      <td>1 hr. 32 min.</td>\n",
       "      <td>15+ - Teens 15 or older</td>\n",
       "      <td>Kim Je Hyuk, a famous baseball player, is arre...</td>\n",
       "      <td>Park Hae Soo, Jung Kyung Ho, Krystal Jung, Im ...</td>\n",
       "      <td>Comedy,  Crime,  Life,  Drama</td>\n",
       "      <td>Prison, Bromance, Wrongfully Accused, Life Les...</td>\n",
       "      <td>#6</td>\n",
       "      <td>9.1</td>\n",
       "    </tr>\n",
       "    <tr>\n",
       "      <th>6</th>\n",
       "      <td>Reply 1988</td>\n",
       "      <td>2015</td>\n",
       "      <td>Nov  6, 2015 - Jan 16, 2016</td>\n",
       "      <td>Friday, Saturday</td>\n",
       "      <td>20</td>\n",
       "      <td>tvN</td>\n",
       "      <td>1 hr. 40 min.</td>\n",
       "      <td>15+ - Teens 15 or older</td>\n",
       "      <td>Five childhood friends, who all live in the sa...</td>\n",
       "      <td>Lee Hye Ri, Go Kyung Pyo, Ryu Joon Yeol, Park ...</td>\n",
       "      <td>Comedy,  Romance,  Youth,  Family</td>\n",
       "      <td>Neighbors, Slice Of Life, Childhood Friends, M...</td>\n",
       "      <td>#7</td>\n",
       "      <td>9.0</td>\n",
       "    </tr>\n",
       "    <tr>\n",
       "      <th>7</th>\n",
       "      <td>It's Okay to Not Be Okay</td>\n",
       "      <td>2020</td>\n",
       "      <td>Jun 20, 2020 - Aug  9, 2020</td>\n",
       "      <td>Saturday, Sunday</td>\n",
       "      <td>16</td>\n",
       "      <td>Netflix,  tvN</td>\n",
       "      <td>1 hr. 15 min.</td>\n",
       "      <td>15+ - Teens 15 or older</td>\n",
       "      <td>Moon Gang Tae is a community health worker at ...</td>\n",
       "      <td>Kim Soo Hyun, Seo Yea Ji, Oh Jung Se, Park Gyu...</td>\n",
       "      <td>Psychological,  Comedy,  Romance,  Drama</td>\n",
       "      <td>Sibling Relationship, Melodrama, Mental Health...</td>\n",
       "      <td>#8</td>\n",
       "      <td>9.0</td>\n",
       "    </tr>\n",
       "    <tr>\n",
       "      <th>8</th>\n",
       "      <td>Mr. Queen</td>\n",
       "      <td>2020</td>\n",
       "      <td>Dec 12, 2020 - Feb 14, 2021</td>\n",
       "      <td>Saturday, Sunday</td>\n",
       "      <td>20</td>\n",
       "      <td>tvN</td>\n",
       "      <td>1 hr. 20 min.</td>\n",
       "      <td>15+ - Teens 15 or older</td>\n",
       "      <td>Jang Bong Hwan is a South Korean chef who has ...</td>\n",
       "      <td>Shin Hye Sun, Kim Jung Hyun, Bae Jong Ok, Kim ...</td>\n",
       "      <td>Historical,  Mystery,  Comedy,  Romance</td>\n",
       "      <td>Smart Male Lead, Transmigration, Calm Male Lea...</td>\n",
       "      <td>#9</td>\n",
       "      <td>9.0</td>\n",
       "    </tr>\n",
       "    <tr>\n",
       "      <th>9</th>\n",
       "      <td>Mother</td>\n",
       "      <td>2018</td>\n",
       "      <td>Jan 24, 2018 - Mar 15, 2018</td>\n",
       "      <td>Wednesday, Thursday</td>\n",
       "      <td>16</td>\n",
       "      <td>tvN</td>\n",
       "      <td>1 hr. 3 min.</td>\n",
       "      <td>15+ - Teens 15 or older</td>\n",
       "      <td>Realizing one of her students is being abused,...</td>\n",
       "      <td>Lee Bo Young, Heo Yool, Lee Hye Young, Go Sung...</td>\n",
       "      <td>Thriller,  Mystery,  Psychological,  Melodrama</td>\n",
       "      <td>Mother-Daughter Relationship, Independent Fema...</td>\n",
       "      <td>#10</td>\n",
       "      <td>9.0</td>\n",
       "    </tr>\n",
       "  </tbody>\n",
       "</table>\n",
       "</div>"
      ],
      "text/plain": [
       "                       Name  Year of release                   Aired Date  \\\n",
       "0            Move to Heaven             2021                 May 14, 2021   \n",
       "1         Hospital Playlist             2020  Mar 12, 2020 - May 28, 2020   \n",
       "2            Flower of Evil             2020  Jul 29, 2020 - Sep 23, 2020   \n",
       "3       Hospital Playlist 2             2021  Jun 17, 2021 - Sep 16, 2021   \n",
       "4                 My Mister             2018  Mar 21, 2018 - May 17, 2018   \n",
       "5           Prison Playbook             2017  Nov 22, 2017 - Jan 18, 2018   \n",
       "6                Reply 1988             2015  Nov  6, 2015 - Jan 16, 2016   \n",
       "7  It's Okay to Not Be Okay             2020  Jun 20, 2020 - Aug  9, 2020   \n",
       "8                 Mr. Queen             2020  Dec 12, 2020 - Feb 14, 2021   \n",
       "9                    Mother             2018  Jan 24, 2018 - Mar 15, 2018   \n",
       "\n",
       "               Aired On  Number of Episode         Network       Duration  \\\n",
       "0                Friday                 10        Netflix         52 min.   \n",
       "1              Thursday                 12  Netflix,  tvN   1 hr. 30 min.   \n",
       "2   Wednesday, Thursday                 16            tvN   1 hr. 10 min.   \n",
       "3              Thursday                 12  Netflix,  tvN   1 hr. 40 min.   \n",
       "4   Wednesday, Thursday                 16            tvN   1 hr. 17 min.   \n",
       "5   Wednesday, Thursday                 16  Netflix,  tvN   1 hr. 32 min.   \n",
       "6      Friday, Saturday                 20            tvN   1 hr. 40 min.   \n",
       "7      Saturday, Sunday                 16  Netflix,  tvN   1 hr. 15 min.   \n",
       "8      Saturday, Sunday                 20            tvN   1 hr. 20 min.   \n",
       "9   Wednesday, Thursday                 16            tvN    1 hr. 3 min.   \n",
       "\n",
       "                           Content Rating  \\\n",
       "0  18+ Restricted (violence & profanity)    \n",
       "1                15+ - Teens 15 or older    \n",
       "2                15+ - Teens 15 or older    \n",
       "3                15+ - Teens 15 or older    \n",
       "4                15+ - Teens 15 or older    \n",
       "5                15+ - Teens 15 or older    \n",
       "6                15+ - Teens 15 or older    \n",
       "7                15+ - Teens 15 or older    \n",
       "8                15+ - Teens 15 or older    \n",
       "9                15+ - Teens 15 or older    \n",
       "\n",
       "                                            Synopsis  \\\n",
       "0  Geu Roo is a young autistic man. He works for ...   \n",
       "1  The stories of people going through their days...   \n",
       "2  Although Baek Hee Sung is hiding a dark secret...   \n",
       "3  Everyday is extraordinary for five doctors and...   \n",
       "4  Park Dong Hoon is a middle-aged engineer who i...   \n",
       "5  Kim Je Hyuk, a famous baseball player, is arre...   \n",
       "6  Five childhood friends, who all live in the sa...   \n",
       "7  Moon Gang Tae is a community health worker at ...   \n",
       "8  Jang Bong Hwan is a South Korean chef who has ...   \n",
       "9  Realizing one of her students is being abused,...   \n",
       "\n",
       "                                                Cast  \\\n",
       "0  Lee Je Hoon, Tang Jun Sang, Hong Seung Hee, Ju...   \n",
       "1  Jo Jung Suk, Yoo Yeon Seok, Jung Kyung Ho, Kim...   \n",
       "2  Lee Joon Gi, Moon Chae Won, Jang Hee Jin, Seo ...   \n",
       "3  Jo Jung Suk, Yoo Yeon Seok, Jung Kyung Ho, Kim...   \n",
       "4  Lee Sun Kyun, IU, Park Ho San, Song Sae Byuk, ...   \n",
       "5  Park Hae Soo, Jung Kyung Ho, Krystal Jung, Im ...   \n",
       "6  Lee Hye Ri, Go Kyung Pyo, Ryu Joon Yeol, Park ...   \n",
       "7  Kim Soo Hyun, Seo Yea Ji, Oh Jung Se, Park Gyu...   \n",
       "8  Shin Hye Sun, Kim Jung Hyun, Bae Jong Ok, Kim ...   \n",
       "9  Lee Bo Young, Heo Yool, Lee Hye Young, Go Sung...   \n",
       "\n",
       "                                             Genre  \\\n",
       "0                           Life,  Drama,  Family    \n",
       "1           Friendship,  Romance,  Life,  Medical    \n",
       "2          Thriller,  Romance,  Crime,  Melodrama    \n",
       "3           Friendship,  Romance,  Life,  Medical    \n",
       "4           Psychological,  Life,  Drama,  Family    \n",
       "5                   Comedy,  Crime,  Life,  Drama    \n",
       "6               Comedy,  Romance,  Youth,  Family    \n",
       "7        Psychological,  Comedy,  Romance,  Drama    \n",
       "8         Historical,  Mystery,  Comedy,  Romance    \n",
       "9  Thriller,  Mystery,  Psychological,  Melodrama    \n",
       "\n",
       "                                                Tags Rank  Rating  \n",
       "0  Autism, Uncle-Nephew Relationship, Death, Sava...   #1     9.2  \n",
       "1  Strong Friendship, Multiple Mains, Best Friend...   #2     9.1  \n",
       "2  Married Couple, Deception, Suspense, Family Se...   #3     9.1  \n",
       "3  Workplace, Strong Friendship, Best Friends, Mu...   #4     9.1  \n",
       "4  Age Gap, Nice Male Lead, Strong Female Lead, H...   #5     9.1  \n",
       "5  Prison, Bromance, Wrongfully Accused, Life Les...   #6     9.1  \n",
       "6  Neighbors, Slice Of Life, Childhood Friends, M...   #7     9.0  \n",
       "7  Sibling Relationship, Melodrama, Mental Health...   #8     9.0  \n",
       "8  Smart Male Lead, Transmigration, Calm Male Lea...   #9     9.0  \n",
       "9  Mother-Daughter Relationship, Independent Fema...  #10     9.0  "
      ]
     },
     "execution_count": 2,
     "metadata": {},
     "output_type": "execute_result"
    }
   ],
   "source": [
    "df = pd.read_csv(\"top100_kdrama.csv\")\n",
    "df.shape\n",
    "df.head(10)"
   ]
  },
  {
   "cell_type": "markdown",
   "metadata": {},
   "source": [
    "Column Names:\n",
    "* Name\n",
    "* Year of release\n",
    "* Aired Date\n",
    "* Aired On\n",
    "* Number of Episode\n",
    "* Network\n",
    "* Duration\n",
    "* Content Rating\n",
    "* Synopsis\n",
    "* Cast\n",
    "* Genre\n",
    "* Tags\n",
    "* Rank\n",
    "* Rating\n",
    "\n",
    "## Introduction\n",
    "Goals of this project:\n",
    "* Familiarize with data visualization using Python\n",
    "* Familiarize with data analysis packages (Pandas)\n",
    "* Practice NLP\n",
    "\n",
    "Bias in the dataset:\n",
    "* Lack of number of users who rated the movie title\n",
    "* Genre vs Tags\n",
    "\n",
    "Based on this dataset, I'd like to answer 3 questions below:\n",
    "1. What are the characteristics of high-rated dramas?\n",
    "2. What are the characteristics of low-rated dramas?\n",
    "3. How can we use this data to improve drama production?\n"
   ]
  },
  {
   "cell_type": "code",
   "execution_count": 11,
   "metadata": {},
   "outputs": [
    {
     "data": {
      "image/png": "[encoded data removed]",
      "text/plain": [
       "<Figure size 432x288 with 1 Axes>"
      ]
     },
     "metadata": {
      "needs_background": "light"
     },
     "output_type": "display_data"
    }
   ],
   "source": [
    "# Before delving in, it's important to get a better understanding more about the drama performance metric\n",
    "# Here it's rating,\n",
    "desc_stats = df[\"Rating\"].describe() # Shows descriptive statistics of the Rating column\n",
    "# Noticed that the lowest score is only 8.5, highest is 9.2 -- and 8.7 is the mean\n",
    "\n",
    "# Let's try to take a look at the distribution\n",
    "rating_dist = plt.hist(df[\"Rating\"]) # Histogram for rating plot\n",
    "# Noticed that distribution is skewed to the left, which makes sense since this only includes the top 100 dramas\n",
    "    # However, this indicates a posibility that there could be a normal distribution if we have all of the dramas available"
   ]
  },
  {
   "cell_type": "markdown",
   "metadata": {},
   "source": [
    "Based on the histogram chart in the block above, we notice that majority of the data is skewed around the mean, which is 8.6-8.7. Thus, we can divide the titles into two groups, titles with ratings >8.8 and titles with ratings <8.8. Since we consider the top-rated dramas to be different from those closer to the mean."
   ]
  },
  {
   "cell_type": "code",
   "execution_count": 3,
   "metadata": {},
   "outputs": [
    {
     "data": {
      "text/html": [
       "<div>\n",
       "<style scoped>\n",
       "    .dataframe tbody tr th:only-of-type {\n",
       "        vertical-align: middle;\n",
       "    }\n",
       "\n",
       "    .dataframe tbody tr th {\n",
       "        vertical-align: top;\n",
       "    }\n",
       "\n",
       "    .dataframe thead th {\n",
       "        text-align: right;\n",
       "    }\n",
       "</style>\n",
       "<table border=\"1\" class=\"dataframe\">\n",
       "  <thead>\n",
       "    <tr style=\"text-align: right;\">\n",
       "      <th></th>\n",
       "      <th>Name</th>\n",
       "      <th>Year of release</th>\n",
       "      <th>Aired Date</th>\n",
       "      <th>Aired On</th>\n",
       "      <th>Number of Episode</th>\n",
       "      <th>Duration</th>\n",
       "      <th>Synopsis</th>\n",
       "      <th>Cast</th>\n",
       "      <th>Genre</th>\n",
       "      <th>Tags</th>\n",
       "      <th>Rank</th>\n",
       "      <th>Rating</th>\n",
       "      <th>Duration_mins</th>\n",
       "      <th>Duration_hr</th>\n",
       "      <th>Duration_min</th>\n",
       "      <th>content_rating</th>\n",
       "      <th>Netflix</th>\n",
       "      <th>Viki</th>\n",
       "      <th>network_kr</th>\n",
       "      <th>sum</th>\n",
       "    </tr>\n",
       "  </thead>\n",
       "  <tbody>\n",
       "    <tr>\n",
       "      <th>0</th>\n",
       "      <td>Move to Heaven</td>\n",
       "      <td>2021</td>\n",
       "      <td>May 14, 2021</td>\n",
       "      <td>Friday</td>\n",
       "      <td>10</td>\n",
       "      <td>52 min.</td>\n",
       "      <td>Geu Roo is a young autistic man. He works for ...</td>\n",
       "      <td>Lee Je Hoon, Tang Jun Sang, Hong Seung Hee, Ju...</td>\n",
       "      <td>Life,  Drama,  Family</td>\n",
       "      <td>Autism, Uncle-Nephew Relationship, Death, Sava...</td>\n",
       "      <td>#1</td>\n",
       "      <td>9.2</td>\n",
       "      <td>52</td>\n",
       "      <td>0</td>\n",
       "      <td>52</td>\n",
       "      <td>18+</td>\n",
       "      <td>1</td>\n",
       "      <td>0</td>\n",
       "      <td>None</td>\n",
       "      <td>1</td>\n",
       "    </tr>\n",
       "    <tr>\n",
       "      <th>1</th>\n",
       "      <td>Hospital Playlist</td>\n",
       "      <td>2020</td>\n",
       "      <td>Mar 12, 2020 - May 28, 2020</td>\n",
       "      <td>Thursday</td>\n",
       "      <td>12</td>\n",
       "      <td>1 hr. 30 min.</td>\n",
       "      <td>The stories of people going through their days...</td>\n",
       "      <td>Jo Jung Suk, Yoo Yeon Seok, Jung Kyung Ho, Kim...</td>\n",
       "      <td>Friendship,  Romance,  Life,  Medical</td>\n",
       "      <td>Strong Friendship, Multiple Mains, Best Friend...</td>\n",
       "      <td>#2</td>\n",
       "      <td>9.1</td>\n",
       "      <td>30</td>\n",
       "      <td>60</td>\n",
       "      <td>90</td>\n",
       "      <td>15+</td>\n",
       "      <td>1</td>\n",
       "      <td>0</td>\n",
       "      <td>tvN</td>\n",
       "      <td>1</td>\n",
       "    </tr>\n",
       "    <tr>\n",
       "      <th>2</th>\n",
       "      <td>Flower of Evil</td>\n",
       "      <td>2020</td>\n",
       "      <td>Jul 29, 2020 - Sep 23, 2020</td>\n",
       "      <td>Wednesday, Thursday</td>\n",
       "      <td>16</td>\n",
       "      <td>1 hr. 10 min.</td>\n",
       "      <td>Although Baek Hee Sung is hiding a dark secret...</td>\n",
       "      <td>Lee Joon Gi, Moon Chae Won, Jang Hee Jin, Seo ...</td>\n",
       "      <td>Thriller,  Romance,  Crime,  Melodrama</td>\n",
       "      <td>Married Couple, Deception, Suspense, Family Se...</td>\n",
       "      <td>#3</td>\n",
       "      <td>9.1</td>\n",
       "      <td>10</td>\n",
       "      <td>60</td>\n",
       "      <td>70</td>\n",
       "      <td>15+</td>\n",
       "      <td>0</td>\n",
       "      <td>0</td>\n",
       "      <td>tvN</td>\n",
       "      <td>1</td>\n",
       "    </tr>\n",
       "    <tr>\n",
       "      <th>3</th>\n",
       "      <td>Hospital Playlist 2</td>\n",
       "      <td>2021</td>\n",
       "      <td>Jun 17, 2021 - Sep 16, 2021</td>\n",
       "      <td>Thursday</td>\n",
       "      <td>12</td>\n",
       "      <td>1 hr. 40 min.</td>\n",
       "      <td>Everyday is extraordinary for five doctors and...</td>\n",
       "      <td>Jo Jung Suk, Yoo Yeon Seok, Jung Kyung Ho, Kim...</td>\n",
       "      <td>Friendship,  Romance,  Life,  Medical</td>\n",
       "      <td>Workplace, Strong Friendship, Best Friends, Mu...</td>\n",
       "      <td>#4</td>\n",
       "      <td>9.1</td>\n",
       "      <td>40</td>\n",
       "      <td>60</td>\n",
       "      <td>100</td>\n",
       "      <td>15+</td>\n",
       "      <td>1</td>\n",
       "      <td>0</td>\n",
       "      <td>tvN</td>\n",
       "      <td>1</td>\n",
       "    </tr>\n",
       "    <tr>\n",
       "      <th>4</th>\n",
       "      <td>My Mister</td>\n",
       "      <td>2018</td>\n",
       "      <td>Mar 21, 2018 - May 17, 2018</td>\n",
       "      <td>Wednesday, Thursday</td>\n",
       "      <td>16</td>\n",
       "      <td>1 hr. 17 min.</td>\n",
       "      <td>Park Dong Hoon is a middle-aged engineer who i...</td>\n",
       "      <td>Lee Sun Kyun, IU, Park Ho San, Song Sae Byuk, ...</td>\n",
       "      <td>Psychological,  Life,  Drama,  Family</td>\n",
       "      <td>Age Gap, Nice Male Lead, Strong Female Lead, H...</td>\n",
       "      <td>#5</td>\n",
       "      <td>9.1</td>\n",
       "      <td>17</td>\n",
       "      <td>60</td>\n",
       "      <td>77</td>\n",
       "      <td>15+</td>\n",
       "      <td>0</td>\n",
       "      <td>0</td>\n",
       "      <td>tvN</td>\n",
       "      <td>1</td>\n",
       "    </tr>\n",
       "  </tbody>\n",
       "</table>\n",
       "</div>"
      ],
      "text/plain": [
       "                  Name  Year of release                   Aired Date  \\\n",
       "0       Move to Heaven             2021                 May 14, 2021   \n",
       "1    Hospital Playlist             2020  Mar 12, 2020 - May 28, 2020   \n",
       "2       Flower of Evil             2020  Jul 29, 2020 - Sep 23, 2020   \n",
       "3  Hospital Playlist 2             2021  Jun 17, 2021 - Sep 16, 2021   \n",
       "4            My Mister             2018  Mar 21, 2018 - May 17, 2018   \n",
       "\n",
       "               Aired On  Number of Episode       Duration  \\\n",
       "0                Friday                 10        52 min.   \n",
       "1              Thursday                 12  1 hr. 30 min.   \n",
       "2   Wednesday, Thursday                 16  1 hr. 10 min.   \n",
       "3              Thursday                 12  1 hr. 40 min.   \n",
       "4   Wednesday, Thursday                 16  1 hr. 17 min.   \n",
       "\n",
       "                                            Synopsis  \\\n",
       "0  Geu Roo is a young autistic man. He works for ...   \n",
       "1  The stories of people going through their days...   \n",
       "2  Although Baek Hee Sung is hiding a dark secret...   \n",
       "3  Everyday is extraordinary for five doctors and...   \n",
       "4  Park Dong Hoon is a middle-aged engineer who i...   \n",
       "\n",
       "                                                Cast  \\\n",
       "0  Lee Je Hoon, Tang Jun Sang, Hong Seung Hee, Ju...   \n",
       "1  Jo Jung Suk, Yoo Yeon Seok, Jung Kyung Ho, Kim...   \n",
       "2  Lee Joon Gi, Moon Chae Won, Jang Hee Jin, Seo ...   \n",
       "3  Jo Jung Suk, Yoo Yeon Seok, Jung Kyung Ho, Kim...   \n",
       "4  Lee Sun Kyun, IU, Park Ho San, Song Sae Byuk, ...   \n",
       "\n",
       "                                     Genre  \\\n",
       "0                   Life,  Drama,  Family    \n",
       "1   Friendship,  Romance,  Life,  Medical    \n",
       "2  Thriller,  Romance,  Crime,  Melodrama    \n",
       "3   Friendship,  Romance,  Life,  Medical    \n",
       "4   Psychological,  Life,  Drama,  Family    \n",
       "\n",
       "                                                Tags Rank  Rating  \\\n",
       "0  Autism, Uncle-Nephew Relationship, Death, Sava...   #1     9.2   \n",
       "1  Strong Friendship, Multiple Mains, Best Friend...   #2     9.1   \n",
       "2  Married Couple, Deception, Suspense, Family Se...   #3     9.1   \n",
       "3  Workplace, Strong Friendship, Best Friends, Mu...   #4     9.1   \n",
       "4  Age Gap, Nice Male Lead, Strong Female Lead, H...   #5     9.1   \n",
       "\n",
       "   Duration_mins  Duration_hr  Duration_min content_rating  Netflix  Viki  \\\n",
       "0             52            0            52            18+        1     0   \n",
       "1             30           60            90            15+        1     0   \n",
       "2             10           60            70            15+        0     0   \n",
       "3             40           60           100            15+        1     0   \n",
       "4             17           60            77            15+        0     0   \n",
       "\n",
       "  network_kr  sum  \n",
       "0       None    1  \n",
       "1       tvN     1  \n",
       "2       tvN     1  \n",
       "3       tvN     1  \n",
       "4       tvN     1  "
      ]
     },
     "execution_count": 3,
     "metadata": {},
     "output_type": "execute_result"
    }
   ],
   "source": [
    "# Data Preparation\n",
    "\n",
    "### Convert Duration into minutes\n",
    "df[\"Duration_mins\"] = df[\"Duration\"].str.replace(\"min.\", \"\") # minutes column\n",
    "df[\"Duration_hr\"] = df[\"Duration_mins\"].str.replace(\"1 hr.\", \"60\")\n",
    "df[\"Duration_mins\"] = df[\"Duration_mins\"].str.replace(\"1 hr.\", \"\")\n",
    "df.loc[df['Duration_hr'].str.contains('60'), ['Duration_hr']] = ['60']\n",
    "df.loc[~df['Duration'].str.contains('hr.'), ['Duration_hr']] = ['0'] # create hour column\n",
    "df[[\"Duration_mins\", \"Duration_hr\"]] = df[[\"Duration_mins\", \"Duration_hr\"]].astype(\"int\")\n",
    "df[\"Duration_min\"] = df[\"Duration_mins\"] + df[\"Duration_hr\"]\n",
    "# df = df.drop(columns = [\"Duration_mins\", \"Duration_hr\", \"Duration\"])\n",
    "## Create Groups\n",
    "\n",
    "### Group Content rating into 15+, 18+ (Restricted - violence & profanity), 13+ \n",
    "df[\"Content Rating\"].value_counts() # To check unique groups\n",
    "# 15+ - Teens 15 or older\n",
    "# 18+ Restricted (violence & profanity)\n",
    "# 13+ - Teens 13 or older\n",
    "df[\"content_rating\"] = df[\"Content Rating\"]\n",
    "df.loc[df['Content Rating'].str.contains(\"15+\"), ['content_rating']] = [\"15+\"]\n",
    "df.loc[df['Content Rating'].str.contains(\"18+\", regex = True), ['content_rating']] = [\"18+\"]\n",
    "df.loc[df['Content Rating'].str.contains(\"13+\", regex = True), ['content_rating']] = [\"13+\"]\n",
    "df = df.drop(columns = [\"Content Rating\"])\n",
    "\n",
    "\n",
    "### Transform Network\n",
    "df[\"Network\"].value_counts()\n",
    "# Noticed that since most of the dramas are produced by Korean TV channels, we can make a separate a new column to indicate netflix's participation\n",
    "df[\"Netflix\"] = df[\"Network\"]\n",
    "df.loc[df['Network'].str.contains(\"Netflix\"), ['Netflix']] = [\"1\"]\n",
    "df.loc[~df['Network'].str.contains(\"Netflix\"), ['Netflix']] = [\"0\"]\n",
    "df[\"Netflix\"] = df[\"Netflix\"].astype(\"int\")\n",
    "# Also noticed that Viki also co-produced some dramas\n",
    "df[\"Viki\"] = df[\"Network\"]\n",
    "df.loc[df['Network'].str.contains(\"Viki\"), ['Viki']] = [\"1\"]\n",
    "df.loc[~df['Network'].str.contains(\"Viki\"), ['Viki']] = [\"0\"]\n",
    "df[\"Viki\"] = df[\"Viki\"].astype(\"int\")\n",
    "\n",
    "df[\"network_kr\"] = df[\"Network\"]\n",
    "df.loc[df['network_kr'] == \"Netflix \", ['network_kr']] = [\"None\"]\n",
    "df[\"network_kr\"] = df[\"network_kr\"].str.replace(\"Netflix,  \", \"\")\n",
    "df[\"network_kr\"] = df[\"network_kr\"].str.replace(\",  Netflix\", \"\")\n",
    "df[\"network_kr\"] = df[\"network_kr\"].str.replace(\",  Viki\", \"\")\n",
    "df = df.drop(columns = [\"Network\"])\n",
    "\n",
    "\n",
    "### Add another column with value 1 for ease of data visualization\n",
    "df[\"sum\"] = 1\n",
    "\n",
    "df.head()\n",
    "\n",
    "# dftest = df.loc[df['network_kr'] == \"Netflix \"]\n",
    "# dftest.head()"
   ]
  },
  {
   "cell_type": "code",
   "execution_count": 5,
   "metadata": {},
   "outputs": [
    {
     "data": {
      "text/plain": [
       "(64, 20)"
      ]
     },
     "execution_count": 5,
     "metadata": {},
     "output_type": "execute_result"
    }
   ],
   "source": [
    "# Splitting df to high & low\n",
    "dfh = pd.DataFrame(df.loc[df[\"Rating\"] >= 8.8]) # 36 titles\n",
    "dfl = pd.DataFrame(df.loc[df[\"Rating\"] < 8.8]) # 64 titles\n",
    "dfl.shape\n",
    "\n",
    "# Although they are not balanced, it makes sense for number of high-rated dramas to be less than lower-rated\n",
    "# because otherwise all kdramas will be high-rated (which I totally agree with, but that's just not realistic)"
   ]
  },
  {
   "cell_type": "markdown",
   "metadata": {},
   "source": [
    "### 1. What are the characteristics of high-rated dramas?\n",
    "To tackle this question, we will be taking a look at the filtered dataframe \"dfh\" with 36 titles. Here are some of the process that I will go through to figure out how best to tackle this. I'd like to check a few factors below:\n",
    "* Network distribution (percentage of each networks)\n",
    "* Year of release distribution\n",
    "* Duration \n",
    "* Content Rating\n",
    "* Number of Episodes\n",
    "\n",
    "Before delving into the story itself, let's take a look into the external factors"
   ]
  },
  {
   "cell_type": "code",
   "execution_count": 32,
   "metadata": {},
   "outputs": [
    {
     "data": {
      "image/png": "[encoded data removed]",
      "text/plain": [
       "<Figure size 432x288 with 1 Axes>"
      ]
     },
     "metadata": {},
     "output_type": "display_data"
    }
   ],
   "source": [
    "## VISUALIZATION\n",
    "\n",
    "# Network Distribution (Korean version)\n",
    "sns.set_style(\"whitegrid\")\n",
    "nd = sns.countplot(x = \"network_kr\", data = dfh, palette = \"Greys\", order=dfh[\"network_kr\"].value_counts().index)\n",
    "nd = nd.set(ylim = (0, 20))\n",
    "nd = plt.title(\"Korean Network Distribution\")\n",
    "nd = plt.xlabel(\"Korean Networks\")\n",
    "nd = plt.ylabel(\"Drama Counts\")\n"
   ]
  },
  {
   "cell_type": "code",
   "execution_count": 63,
   "metadata": {},
   "outputs": [
    {
     "data": {
      "image/png": "[encoded data removed]",
      "text/plain": [
       "<Figure size 432x288 with 1 Axes>"
      ]
     },
     "metadata": {},
     "output_type": "display_data"
    }
   ],
   "source": [
    "# Network Distribution (Netflix)\n",
    "net = sns.countplot(x = \"Netflix\", data = dfh, palette = \"Greys\", order= dfh[\"Netflix\"].value_counts().index)\n",
    "net = net.set(ylim = (0, 22))\n",
    "net = plt.title(\"Netflix Produced Show Distribution\")\n",
    "net = plt.xlabel(\"Netflix\")\n",
    "net = plt.ylabel(\"Drama Counts\")\n"
   ]
  },
  {
   "cell_type": "code",
   "execution_count": 64,
   "metadata": {},
   "outputs": [
    {
     "data": {
      "image/png": "[encoded data removed]",
      "text/plain": [
       "<Figure size 432x288 with 1 Axes>"
      ]
     },
     "metadata": {},
     "output_type": "display_data"
    }
   ],
   "source": [
    "### USEFUL\n",
    "\n",
    "# Netflix with Korean Networks\n",
    "sns.countplot(x=\"network_kr\", hue = \"Netflix\", data = dfh, palette = \"Greys\", order= dfh[\"network_kr\"].value_counts().index)\n",
    "netx = plt.title(\"Show Producer Distribution\")\n",
    "netx = plt.xlabel(\"Korean Networks\")\n",
    "netx = plt.ylabel(\"Drama Counts\")\n",
    "\n",
    "# Notes\n",
    "# dfh[\"network_kr\"].value_counts() ## use a pie chart\n",
    "# dfh[\"Netflix\"].value_counts() ## use a pie chart\n",
    "# Noticed that almost half of the high-rated dramas are either produced or co-produced by netflix \n",
    "    # 4 of 16 netflix production is solo-produced by Netflix\n",
    "    #!!! Netflix produced shows beats Korean network only produced shows\n",
    "# More than half of high-rated dramas are produced by tvN\n",
    "# More than half of tvN produced dramas --> co-produced by Netflix\n",
    "# Netflix seems to partner mostly with tvN\n",
    "### Maybe can take a look into specific titles later on"
   ]
  },
  {
   "cell_type": "code",
   "execution_count": 62,
   "metadata": {},
   "outputs": [
    {
     "name": "stdout",
     "output_type": "stream",
     "text": [
      "1            Hospital Playlist\n",
      "3          Hospital Playlist 2\n",
      "5              Prison Playbook\n",
      "7     It's Okay to Not Be Okay\n",
      "11                   Navillera\n",
      "13                    Vincenzo\n",
      "14        Crash Landing on You\n",
      "Name: Name, dtype: object\n"
     ]
    },
    {
     "data": {
      "image/png": "[encoded data removed]",
      "text/plain": [
       "<Figure size 432x288 with 1 Axes>"
      ]
     },
     "metadata": {},
     "output_type": "display_data"
    }
   ],
   "source": [
    "### USEFUL\n",
    "# Netflix with Korean Networks\n",
    "krx = sns.barplot(y=\"Rating\", x = \"network_kr\", data = dfh, hue = \"Netflix\", palette = \"Greys\")\n",
    "krx = krx.set(ylim = (8.5, 9.2))\n",
    "krx = plt.title(\"Rating Distribution by Korean Network\")\n",
    "krx = plt.xlabel(\"Korean Networks\")\n",
    "krx = plt.ylabel(\"Ratings\")\n",
    "# Netflix-only produced shows reached high ratings, along with collaboration with tvN\n",
    "### Rates higher than other Korean broadcast networks\n",
    "###### Possible bias due to source of data comprises of international users -- different tastes compared to Korean broadcast\n",
    "# Netflix collaboration with OCN and SBS is much lower\n",
    "# print(dfh['Name'].loc[(dfh['network_kr'] == \"None\") & (dfh['Rating'] > 8.9)]) ## Move to Heaven (rating > 8.9; Netflix only produced)\n",
    "# print(dfh['Name'].loc[(dfh['network_kr'] == \"tvN \") & (dfh['Rating'] > 8.9) & (dfh['Netflix'] == 0)])\n",
    "### tvN without Netflix -- Flower of Evil, My Mister, Reply 1988, Mr. Queen, Mother, Signal, Happiness\n",
    "# print(dfh['Name'].loc[(dfh['network_kr'] == \"tvN \") & (dfh['Rating'] > 8.9) & (dfh['Netflix'] == 1)])\n",
    "### tvN with Netflix -- Hospital Playlist, Hospital Playlist 2, Prison Playbook, It's Okay to Not be Okay, Navillera, Vincenzo, Crash Landing on You"
   ]
  },
  {
   "cell_type": "code",
   "execution_count": 7,
   "metadata": {},
   "outputs": [
    {
     "data": {
      "text/plain": [
       "<matplotlib.axes._subplots.AxesSubplot at 0x1d945c228e0>"
      ]
     },
     "execution_count": 7,
     "metadata": {},
     "output_type": "execute_result"
    },
    {
     "data": {
      "image/png": "[encoded data removed]",
      "text/plain": [
       "<Figure size 432x288 with 1 Axes>"
      ]
     },
     "metadata": {
      "needs_background": "light"
     },
     "output_type": "display_data"
    }
   ],
   "source": [
    "## USELESS RIGHT NOW\n",
    "# Year of Release paired with content rating\n",
    "# sns.countplot(x=\"Year of release\", data = dfh, palette = \"Greys\", order= dfh[\"Year of release\"].value_counts().index)\n",
    "# df1 = dfh.groupby('Year of release', as_index = False)[\"sum\"].agg(['sum', 'count'])\n",
    "sns.set_palette(\"Greys_r\")\n",
    "sns.lineplot(x = \"Year of release\", y = \"Duration_min\", hue = \"content_rating\", data = dfh)\n",
    "# df1.head(10)\n",
    "\n",
    "# Notes\n",
    "## Duration increased dramatically in 2015, then continued to stay for content rating 15+ -- >70 mins range\n",
    "## For content rating 18+, the duration decreases slightly, and stays at 60 mins range"
   ]
  },
  {
   "cell_type": "code",
   "execution_count": 35,
   "metadata": {},
   "outputs": [
    {
     "data": {
      "image/png": "[encoded data removed]",
      "text/plain": [
       "<Figure size 432x288 with 1 Axes>"
      ]
     },
     "metadata": {},
     "output_type": "display_data"
    }
   ],
   "source": [
    "### USEFUL\n",
    "# Year of Release -- figure out how to convert to line plot\n",
    "yr = sns.countplot(x=\"Year of release\", hue = \"Netflix\", data = dfh, palette = \"Greys\", order= dfh[\"Year of release\"].value_counts().index)\n",
    "yr = plt.title(\"Yearly Distribution by Producer\")\n",
    "yr = plt.xlabel(\"Release Year\")\n",
    "yr = plt.ylabel(\"Total Counts\")\n",
    "# Year of release distribution\n",
    "# dfh[\"Year of release\"].value_counts()\n",
    "# More than half of the high-rated dramas are released in the past 2 years (2021, 2020)\n",
    "### Possibly due to the surge of accessibility to Kdrama content thanks to Netflix --> higher ratings?\n",
    "### but older dramas (2018 & 2016) are still following the dramas produced in 2021 & 2020\n",
    "### Need to test hypothesis by checking the number of raters via website"
   ]
  },
  {
   "cell_type": "code",
   "execution_count": 68,
   "metadata": {},
   "outputs": [
    {
     "name": "stdout",
     "output_type": "stream",
     "text": [
      "5    Prison Playbook\n",
      "Name: Name, dtype: object\n"
     ]
    },
    {
     "data": {
      "image/png": "[encoded data removed]",
      "text/plain": [
       "<Figure size 432x288 with 1 Axes>"
      ]
     },
     "metadata": {},
     "output_type": "display_data"
    }
   ],
   "source": [
    "# Year of Release\n",
    "yrx = sns.barplot(x=\"Year of release\", y = \"Rating\", hue = \"Netflix\", data = dfh, palette = \"Greys\")\n",
    "yrx = yrx.set(ylim = (8.5, 9.2))\n",
    "yrx = plt.title(\"Release Year by Rating\")\n",
    "yrx = plt.xlabel(\"Release Year\")\n",
    "yrx = plt.ylabel(\"Rating\")\n",
    "## Recent year doesn't imply higher rating\n",
    "print(dfh[\"Name\"].loc[(dfh[\"Year of release\"] == 2017) & (dfh[\"Netflix\"] == 1) & (dfh[\"Rating\"] > 8.9)])\n",
    "## Prison Playbook has highest rating in 2017 (highest rating based on year)\n",
    "## indicates that the director/scriptwriter plays a larger role in rating compared to year"
   ]
  },
  {
   "cell_type": "code",
   "execution_count": 76,
   "metadata": {},
   "outputs": [
    {
     "name": "stdout",
     "output_type": "stream",
     "text": [
      "0    Move to Heaven\n",
      "Name: Name, dtype: object\n"
     ]
    },
    {
     "data": {
      "image/png": "[encoded data removed]",
      "text/plain": [
       "<Figure size 432x288 with 1 Axes>"
      ]
     },
     "metadata": {},
     "output_type": "display_data"
    }
   ],
   "source": [
    "# Duration\n",
    "dur = sns.barplot(x=\"Rating\", y = \"Duration_min\", data = dfh, hue = \"Netflix\", palette = \"Greys\")\n",
    "dur = plt.title(\"Duration by Rating by Producer\")\n",
    "dur = plt.xlabel(\"Rating\")\n",
    "dur = plt.ylabel(\"Episode Duration (mins)\")\n",
    "# duration_hist = plt.hist(dfh[\"Duration_min\"]) # Distribution looks normal\n",
    "# dfh[\"Duration_min\"].value_counts().sort_index()\n",
    "# round(dfh[\"Duration_min\"].mean(),0)\n",
    "# dfh[\"Duration_min\"].describe()\n",
    "# Average duration is 72 minutes, which is about normal considering recent shows have a longer episode duration\n",
    "#### Netflix-only highest rating episode duration is < 60 mins, lowest\n",
    "#### Is it highly rated because of the duration and it's produced by Netflix?\n",
    "#### Seems that Netflix is the only producer that dares to test various durations compared to Korean broadcast networks (higher duration or lower)\n",
    "print(dfh[\"Name\"].loc[(dfh['Duration_min'] < 60) & (dfh['Netflix'] == 1) & (dfh['Rating'] == 9.2)])\n",
    "# Move to Heaven (9.2 rating), Kingdom, D.P. --> duration < 60 mins --> Netflix produced Western style (to have more seasons) "
   ]
  },
  {
   "cell_type": "code",
   "execution_count": 37,
   "metadata": {},
   "outputs": [
    {
     "data": {
      "image/png": "[encoded data removed]",
      "text/plain": [
       "<Figure size 432x288 with 1 Axes>"
      ]
     },
     "metadata": {},
     "output_type": "display_data"
    }
   ],
   "source": [
    "# Content Rating\n",
    "cr = sns.countplot(x=\"content_rating\", hue = \"Netflix\", data = dfh, palette = \"Greys\", order= dfh[\"content_rating\"].value_counts().index)\n",
    "cr = plt.title(\"Content Rating Distribution\")\n",
    "cr = plt.xlabel(\"Content Rating\")\n",
    "cr = plt.ylabel(\"Drama Counts\")\n",
    "# dfh[\"content_rating\"].value_counts()\n",
    "# Majority are with the 15+ label --> possibly indicating that users who rated dramas are in the teens range\n"
   ]
  },
  {
   "cell_type": "code",
   "execution_count": 81,
   "metadata": {},
   "outputs": [
    {
     "name": "stdout",
     "output_type": "stream",
     "text": [
      "31    Taxi Driver\n",
      "33      The Guest\n",
      "Name: Name, dtype: object\n"
     ]
    },
    {
     "data": {
      "image/png": "[encoded data removed]",
      "text/plain": [
       "<Figure size 432x288 with 1 Axes>"
      ]
     },
     "metadata": {},
     "output_type": "display_data"
    }
   ],
   "source": [
    "### USEFUL\n",
    "# Content Rating\n",
    "cr = sns.barplot(x=\"content_rating\", y = \"Rating\", hue = \"Netflix\", data = dfh, palette = \"Greys\", order= dfh[\"content_rating\"].value_counts().index)\n",
    "cr = cr.set(ylim = (8.5, 9.3))\n",
    "cr = plt.title(\"Content Rating by Rating\")\n",
    "cr = plt.xlabel(\"Content Rating\")\n",
    "cr = plt.ylabel(\"Rating\")\n",
    "## 18+ dramas are rated higher\n",
    "## Netflix produced 18+ shows is especially rated higher compared to non-Netflix shows\n",
    "#### indicates that Netflix does 18+ shows better -- possible spot to dive deeper\n",
    "# print(dfh[\"Name\"].loc[(dfh[\"content_rating\"] == '18+') & (dfh[\"Netflix\"] == 1) & (dfh[\"Rating\"] > 8.9)])\n",
    "# Move to Heaven; Kingdom\n",
    "### More western style rated higher due to source from international website\n",
    "print(dfh[\"Name\"].loc[(dfh[\"content_rating\"] == '18+') & (dfh[\"Netflix\"] == 0)])\n",
    "# Taxi Driver; The Guest\n",
    "### More geared towards Korean audience -- rating is lower"
   ]
  },
  {
   "cell_type": "code",
   "execution_count": 47,
   "metadata": {},
   "outputs": [
    {
     "data": {
      "image/png": "[encoded data removed]",
      "text/plain": [
       "<Figure size 432x288 with 1 Axes>"
      ]
     },
     "metadata": {},
     "output_type": "display_data"
    }
   ],
   "source": [
    "## Analysis notes:\n",
    "# Number of Episodes\n",
    "ep = sns.countplot(x=\"Number of Episode\", data = dfh, palette = \"Greys\", order= dfh[\"Number of Episode\"].value_counts().index)\n",
    "ep = plt.title(\"Episode Number Distribution\")\n",
    "ep = plt.xlabel(\"Episode Number\")\n",
    "ep = plt.ylabel(\"Drama Counts\")\n",
    "\n",
    "# dfh[\"Number of Episode\"].value_counts()\n",
    "# round(dfh[\"Number of Episode\"].mean(),0)\n",
    "# Average number of episodes is 15, which reflects the mode of the data (16 episodes, the usual number of kdrama episodes)\n",
    "# dfh_mov.head()"
   ]
  },
  {
   "cell_type": "code",
   "execution_count": 82,
   "metadata": {},
   "outputs": [
    {
     "name": "stdout",
     "output_type": "stream",
     "text": [
      "1       Hospital Playlist\n",
      "3     Hospital Playlist 2\n",
      "11              Navillera\n",
      "12              Happiness\n",
      "35           Youth of May\n",
      "Name: Name, dtype: object\n"
     ]
    },
    {
     "data": {
      "image/png": "[encoded data removed]",
      "text/plain": [
       "<Figure size 432x288 with 1 Axes>"
      ]
     },
     "metadata": {},
     "output_type": "display_data"
    }
   ],
   "source": [
    "### USEFUL\n",
    "epr = sns.barplot(x=\"Number of Episode\", y = \"Rating\", data = dfh, palette = \"Greys\", order= dfh[\"Number of Episode\"].value_counts().index)\n",
    "epr = epr.set(ylim = (8.5, 9.3))\n",
    "epr = plt.title(\"Episode Number by Rating\")\n",
    "epr = plt.xlabel(\"Episode Number\")\n",
    "epr = plt.ylabel(\"Rating\")\n",
    "## Drama with 10 number of episodes --> highest rating\n",
    "### Definitely Move to Heaven 9.2 rating and 10 episodes\n",
    "# Can check 12 episodes \n",
    "print(dfh[\"Name\"].loc[dfh[\"Number of Episode\"] == 12])\n",
    "## Second category with highest ratings\n",
    "#### Hospital Playlist, Hospital Playlist 2, Navillera, Happiness, Youth of May \n",
    "#### Indicating possible future seasons --> possibly more appealing"
   ]
  },
  {
   "cell_type": "markdown",
   "metadata": {},
   "source": [
    "### 2. What are the characteristics of lower-rated dramas?\n"
   ]
  },
  {
   "cell_type": "code",
   "execution_count": 229,
   "metadata": {},
   "outputs": [
    {
     "data": {
      "text/plain": [
       "21.0"
      ]
     },
     "execution_count": 229,
     "metadata": {},
     "output_type": "execute_result"
    },
    {
     "data": {
      "image/png": "[encoded data removed]",
      "text/plain": [
       "<Figure size 432x288 with 1 Axes>"
      ]
     },
     "metadata": {
      "needs_background": "light"
     },
     "output_type": "display_data"
    }
   ],
   "source": [
    "# Network Distribution\n",
    "dfl[\"network_kr\"].value_counts() ## use a pie chart\n",
    "dfl[\"Netflix\"].value_counts() ## use a pie chart\n",
    "dfl[\"Viki\"].value_counts()\n",
    "# tvN is still high up, but followed by SBS, jtbc (tvn is less than half of the count)\n",
    "# Majority of dramas are not produced/co-produced by Netflix\n",
    "# 1 drama produced by Viki\n",
    "### Maybe can take a look into specific titles later on\n",
    "\n",
    "# Year of release distribution\n",
    "dfl[\"Year of release\"].value_counts()\n",
    "# Majority of low-rated dramas are released > 2 years ago\n",
    "### Before Netflix originals (CLOTY, Itaewon Class, etc) exploded\n",
    "### Again, need to test hypothesis by checking the number of raters via website\n",
    "\n",
    "\n",
    "# Duration\n",
    "lduration_hist = plt.hist(dfl[\"Duration_min\"]) # Distribution looks kind of normal\n",
    "dfl[\"Duration_min\"].value_counts().sort_index()\n",
    "round(dfl[\"Duration_min\"].mean(),0)\n",
    "# dfh[\"Duration_min\"].describe()\n",
    "# Average duration is 62 minutes, which is still an average episode length --> probably affected by the shorter web drama episodes\n",
    "#### Indicates that web dramas could be in this category (30 minutes)\n",
    "\n",
    "\n",
    "# Content Rating\n",
    "dfl[\"content_rating\"].value_counts()\n",
    "# Majority are with the 15+ label --> possibly indicating that users who rated dramas are in the teens range\n",
    "# Also included 13+ dramas as well\n",
    "\n",
    "\n",
    "# Number of Episodes\n",
    "dfl[\"Number of Episode\"].value_counts()\n",
    "epnum = plt.hist(dfl[\"Number of Episode\"]) # orange\n",
    "dfl[\"Number of Episode\"].describe()\n",
    "round(dfl[\"Number of Episode\"].mean(),0)\n",
    "# Average number of episodes is 21, which reflects the mode of the data (20 episodes), a little longer than the usual episodes\n",
    "### But this also includes drama with 40, 50, 60, 100 episodes\n",
    "### May affect the lower ratings due to people getting bored, or lesser users watched -- NEED TO CROSS CHECK\n",
    "# dfh_mov.head()"
   ]
  },
  {
   "cell_type": "markdown",
   "metadata": {},
   "source": [
    "### 3. How can we use this data to improve drama production?"
   ]
  }
 ],
 "metadata": {
  "kernelspec": {
   "display_name": "Python 3",
   "language": "python",
   "name": "python3"
  },
  "language_info": {
   "codemirror_mode": {
    "name": "ipython",
    "version": 3
   },
   "file_extension": ".py",
   "mimetype": "text/x-python",
   "name": "python",
   "nbconvert_exporter": "python",
   "pygments_lexer": "ipython3",
   "version": "3.8.3"
  }
 },
 "nbformat": 4,
 "nbformat_minor": 4
}
